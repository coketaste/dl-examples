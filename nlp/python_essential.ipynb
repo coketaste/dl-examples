{
 "cells": [
  {
   "cell_type": "markdown",
   "metadata": {
    "application/vnd.databricks.v1+cell": {
     "cellMetadata": {},
     "inputWidgets": {},
     "nuid": "e5d1f109-a858-424b-907b-c7a217332e9a",
     "showTitle": false,
     "title": ""
    },
    "colab_type": "text",
    "id": "view-in-github"
   },
   "source": [
    "<a href=\"https://colab.research.google.com/github/coketaste/dl-examples/blob/main/nlp/python_essential.ipynb\" target=\"_parent\"><img src=\"https://colab.research.google.com/assets/colab-badge.svg\" alt=\"Open In Colab\"/></a>"
   ]
  },
  {
   "cell_type": "markdown",
   "metadata": {
    "application/vnd.databricks.v1+cell": {
     "cellMetadata": {},
     "inputWidgets": {},
     "nuid": "9b20a128-69ef-46e6-b625-ee1de7204f73",
     "showTitle": false,
     "title": ""
    },
    "id": "KmAYI-WyKauQ"
   },
   "source": [
    "# Collections\n",
    "Python has several built-in types that are useful for storing and manipulating data: list, tuple, dict. Here is the official Python documentation on these types (and many others):"
   ]
  },
  {
   "cell_type": "markdown",
   "metadata": {
    "application/vnd.databricks.v1+cell": {
     "cellMetadata": {},
     "inputWidgets": {},
     "nuid": "aa7fd1ee-5071-498f-a405-1339c2920056",
     "showTitle": false,
     "title": ""
    }
   },
   "source": [
    "## Lists\n",
    "\n",
    "Lists are mutable arrays. Let's see how they work."
   ]
  },
  {
   "cell_type": "code",
   "execution_count": 0,
   "metadata": {
    "application/vnd.databricks.v1+cell": {
     "cellMetadata": {},
     "inputWidgets": {},
     "nuid": "ba60d245-b61f-4c62-928d-381b4c430ed9",
     "showTitle": false,
     "title": ""
    },
    "id": "XVl-kkVEKTxi"
   },
   "outputs": [],
   "source": [
    "names = [\"Zach\", \"Jay\"]"
   ]
  },
  {
   "cell_type": "code",
   "execution_count": 0,
   "metadata": {
    "application/vnd.databricks.v1+cell": {
     "cellMetadata": {
      "byteLimit": 2048000,
      "rowLimit": 10000
     },
     "inputWidgets": {},
     "nuid": "6a4a1e53-9f3a-4daf-84ab-2f89fc8afda8",
     "showTitle": false,
     "title": ""
    }
   },
   "outputs": [],
   "source": [
    "# Index into list by index\n",
    "print(names[0])"
   ]
  }
 ],
 "metadata": {
  "application/vnd.databricks.v1+notebook": {
   "dashboards": [],
   "language": "python",
   "notebookMetadata": {
    "pythonIndentUnit": 4
   },
   "notebookName": "python_essential",
   "widgets": {}
  },
  "colab": {
   "authorship_tag": "ABX9TyP+T9wPUcVJPdQPcez6SJcj",
   "include_colab_link": true,
   "provenance": []
  },
  "kernelspec": {
   "display_name": "Python 3",
   "name": "python3"
  },
  "language_info": {
   "name": "python"
  }
 },
 "nbformat": 4,
 "nbformat_minor": 0
}
