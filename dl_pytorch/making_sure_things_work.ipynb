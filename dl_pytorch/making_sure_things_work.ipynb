{
 "cells": [
  {
   "cell_type": "markdown",
   "metadata": {
    "application/vnd.databricks.v1+cell": {
     "cellMetadata": {},
     "inputWidgets": {},
     "nuid": "68a21b2c-5d58-47a2-9cc4-605ff68a9ff2",
     "showTitle": false,
     "title": ""
    },
    "colab_type": "text",
    "id": "view-in-github"
   },
   "source": [
    "<a href=\"https://colab.research.google.com/github/coketaste/dl-examples/blob/main/making_sure_things_work.ipynb\" target=\"_parent\"><img src=\"https://colab.research.google.com/assets/colab-badge.svg\" alt=\"Open In Colab\"/></a>"
   ]
  },
  {
   "cell_type": "code",
   "execution_count": 0,
   "metadata": {
    "application/vnd.databricks.v1+cell": {
     "cellMetadata": {},
     "inputWidgets": {},
     "nuid": "68796c2d-2086-4a79-95a5-a7d045fe0b89",
     "showTitle": false,
     "title": ""
    },
    "colab": {
     "base_uri": "https://localhost:8080/"
    },
    "id": "TsU1hpWauwmG",
    "outputId": "52b355f0-e989-4268-bd02-c183ffdd0f38"
   },
   "outputs": [],
   "source": [
    "%pip install torch"
   ]
  },
  {
   "cell_type": "code",
   "execution_count": 0,
   "metadata": {
    "application/vnd.databricks.v1+cell": {
     "cellMetadata": {},
     "inputWidgets": {},
     "nuid": "878f6fdf-ff2e-4d82-af17-454d1f94cb01",
     "showTitle": false,
     "title": ""
    },
    "colab": {
     "base_uri": "https://localhost:8080/"
    },
    "id": "dswWWuxLw4PE",
    "outputId": "b7197afe-056c-4f73-c812-845f80fb4a2e"
   },
   "outputs": [],
   "source": [
    "import torch\n",
    "\n",
    "print(torch.version.__version__)\n",
    "if torch.cuda.is_available():\n",
    "  print('CUDA is supported.')\n",
    "else:\n",
    "  print('CUDA is not supported.')"
   ]
  },
  {
   "cell_type": "code",
   "execution_count": 0,
   "metadata": {
    "application/vnd.databricks.v1+cell": {
     "cellMetadata": {},
     "inputWidgets": {},
     "nuid": "7128c7a7-7467-4e5a-b8fd-90074ad4a296",
     "showTitle": false,
     "title": ""
    },
    "colab": {
     "base_uri": "https://localhost:8080/"
    },
    "id": "QPumjVnWxlPr",
    "outputId": "3cae3edf-fcf4-4666-f544-bffd36e289dd"
   },
   "outputs": [],
   "source": [
    "a = torch.ones(3, 3)\n",
    "b = torch.ones(3, 3)\n",
    "print(a + b)"
   ]
  },
  {
   "cell_type": "code",
   "execution_count": 0,
   "metadata": {
    "application/vnd.databricks.v1+cell": {
     "cellMetadata": {},
     "inputWidgets": {},
     "nuid": "8538adb8-6f63-418e-9f39-046cae4cb91d",
     "showTitle": false,
     "title": ""
    },
    "colab": {
     "base_uri": "https://localhost:8080/"
    },
    "id": "sk7zoQFDyI5O",
    "outputId": "be9f98b7-da4d-4a12-face-64145b5d5c0e"
   },
   "outputs": [],
   "source": [
    "a = a.to('cuda')\n",
    "b = b.to('cuda')\n",
    "print(a + b)"
   ]
  }
 ],
 "metadata": {
  "accelerator": "GPU",
  "application/vnd.databricks.v1+notebook": {
   "dashboards": [],
   "language": "python",
   "notebookMetadata": {},
   "notebookName": "making_sure_things_work",
   "widgets": {}
  },
  "colab": {
   "authorship_tag": "ABX9TyOJ8p7Wy323ClLffMbJvHoU",
   "gpuType": "T4",
   "include_colab_link": true,
   "provenance": []
  },
  "kernelspec": {
   "display_name": "Python 3",
   "name": "python3"
  },
  "language_info": {
   "name": "python"
  }
 },
 "nbformat": 4,
 "nbformat_minor": 0
}
