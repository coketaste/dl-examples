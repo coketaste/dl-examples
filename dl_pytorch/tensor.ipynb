{
 "cells": [
  {
   "cell_type": "markdown",
   "metadata": {
    "application/vnd.databricks.v1+cell": {
     "cellMetadata": {},
     "inputWidgets": {},
     "nuid": "1fa1668d-5422-4864-8d77-73c6902b612f",
     "showTitle": false,
     "title": ""
    },
    "colab_type": "text",
    "id": "view-in-github"
   },
   "source": [
    "<a href=\"https://colab.research.google.com/github/coketaste/dl-examples/blob/main/tensor.ipynb\" target=\"_parent\"><img src=\"https://colab.research.google.com/assets/colab-badge.svg\" alt=\"Open In Colab\"/></a>"
   ]
  },
  {
   "cell_type": "markdown",
   "metadata": {
    "application/vnd.databricks.v1+cell": {
     "cellMetadata": {},
     "inputWidgets": {},
     "nuid": "63e161e7-b5ad-46a9-a4bf-2ca79e5380bc",
     "showTitle": false,
     "title": ""
    },
    "id": "r-rtC8rd_Tki"
   },
   "source": [
    "Tensors: Multidimensional arrays"
   ]
  },
  {
   "cell_type": "code",
   "execution_count": 0,
   "metadata": {
    "application/vnd.databricks.v1+cell": {
     "cellMetadata": {},
     "inputWidgets": {},
     "nuid": "e8e6fbb1-54ce-40ce-976a-a4a29ac63157",
     "showTitle": false,
     "title": ""
    },
    "colab": {
     "base_uri": "https://localhost:8080/"
    },
    "id": "m3uuyyztFVxS",
    "outputId": "fe7497ae-7ca8-4d0f-eb95-6eabfd57a028"
   },
   "outputs": [],
   "source": [
    "%pip install torch"
   ]
  },
  {
   "cell_type": "markdown",
   "metadata": {
    "application/vnd.databricks.v1+cell": {
     "cellMetadata": {},
     "inputWidgets": {},
     "nuid": "54e329d4-03a7-4dc1-a75c-0be6087d9b7a",
     "showTitle": false,
     "title": ""
    },
    "id": "E0chXDb-FhWX"
   },
   "source": [
    "# New Section"
   ]
  },
  {
   "cell_type": "code",
   "execution_count": 0,
   "metadata": {
    "application/vnd.databricks.v1+cell": {
     "cellMetadata": {},
     "inputWidgets": {},
     "nuid": "b7bc2d58-9d33-4e68-b693-3a6657dcd16a",
     "showTitle": false,
     "title": ""
    },
    "colab": {
     "base_uri": "https://localhost:8080/"
    },
    "id": "1jdQx_U6--i2",
    "outputId": "44f1c5ab-74ff-44cd-8f8c-bbe55b6838ea"
   },
   "outputs": [],
   "source": [
    "# From Python lists to PyTorch tensors\n",
    "a = [1.0, 2.0, 1.0]\n",
    "\n",
    "# Constructing our first tensors\n",
    "import torch\n",
    "a = torch.ones(3)\n",
    "a"
   ]
  }
 ],
 "metadata": {
  "application/vnd.databricks.v1+notebook": {
   "dashboards": [],
   "language": "python",
   "notebookMetadata": {
    "pythonIndentUnit": 4
   },
   "notebookName": "tensor",
   "widgets": {}
  },
  "colab": {
   "authorship_tag": "ABX9TyN6MrIPywtz/h4moOXCV6a0",
   "include_colab_link": true,
   "provenance": [],
   "toc_visible": true
  },
  "kernelspec": {
   "display_name": "Python 3",
   "name": "python3"
  },
  "language_info": {
   "name": "python"
  }
 },
 "nbformat": 4,
 "nbformat_minor": 0
}
