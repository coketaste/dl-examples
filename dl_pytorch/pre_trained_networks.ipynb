{
 "cells": [
  {
   "cell_type": "markdown",
   "metadata": {
    "application/vnd.databricks.v1+cell": {
     "cellMetadata": {},
     "inputWidgets": {},
     "nuid": "f54928d1-2dcc-4573-9515-daaf9a7ad752",
     "showTitle": false,
     "title": ""
    },
    "colab_type": "text",
    "id": "view-in-github"
   },
   "source": [
    "<a href=\"https://colab.research.google.com/github/coketaste/dl-examples/blob/main/pre_trained_networks.ipynb\" target=\"_parent\"><img src=\"https://colab.research.google.com/assets/colab-badge.svg\" alt=\"Open In Colab\"/></a>"
   ]
  },
  {
   "cell_type": "code",
   "execution_count": 0,
   "metadata": {
    "application/vnd.databricks.v1+cell": {
     "cellMetadata": {},
     "inputWidgets": {},
     "nuid": "e96468f5-ee5a-4d76-8444-877f96c4b13c",
     "showTitle": false,
     "title": ""
    },
    "colab": {
     "base_uri": "https://localhost:8080/"
    },
    "id": "bQzwgBKkzcB6",
    "outputId": "1d2bdd4b-7ce4-4eb5-a3f8-e689270fc21a"
   },
   "outputs": [],
   "source": [
    "%pip install torch torchvision pillow"
   ]
  },
  {
   "cell_type": "code",
   "execution_count": 0,
   "metadata": {
    "application/vnd.databricks.v1+cell": {
     "cellMetadata": {},
     "inputWidgets": {},
     "nuid": "785e3b49-61d2-4f6d-9265-db5680d2e2e7",
     "showTitle": false,
     "title": ""
    },
    "colab": {
     "base_uri": "https://localhost:8080/"
    },
    "id": "Kjis25jSznXo",
    "outputId": "7b565301-8873-4b0c-91fa-9a8d4247c3f7"
   },
   "outputs": [],
   "source": [
    "from torchvision import models\n",
    "dir(models)"
   ]
  },
  {
   "cell_type": "code",
   "execution_count": 0,
   "metadata": {
    "application/vnd.databricks.v1+cell": {
     "cellMetadata": {},
     "inputWidgets": {},
     "nuid": "8ac15e57-9775-45b8-9116-e261a7ed44cc",
     "showTitle": false,
     "title": ""
    },
    "colab": {
     "base_uri": "https://localhost:8080/"
    },
    "id": "lqMyAa78ztpz",
    "outputId": "1eb294f0-c2f1-474b-ae06-46b93de3de0a"
   },
   "outputs": [],
   "source": [
    "resnet = models.resnet101(weights=models.ResNet101_Weights.DEFAULT)\n",
    "resnet"
   ]
  },
  {
   "cell_type": "code",
   "execution_count": 0,
   "metadata": {
    "application/vnd.databricks.v1+cell": {
     "cellMetadata": {},
     "inputWidgets": {},
     "nuid": "f44f17c2-e5bb-42ad-914c-4edfd5b7613d",
     "showTitle": false,
     "title": ""
    },
    "id": "f-ENjBDqz82r"
   },
   "outputs": [],
   "source": [
    "from torchvision import transforms\n",
    "preprocess = transforms.Compose([\n",
    "        transforms.Resize(256),\n",
    "        transforms.CenterCrop(224),\n",
    "        transforms.ToTensor(),\n",
    "        transforms.Normalize(\n",
    "            mean=[0.485, 0.456, 0.406],\n",
    "            std=[0.229, 0.224, 0.225]\n",
    "        )])"
   ]
  },
  {
   "cell_type": "code",
   "execution_count": 0,
   "metadata": {
    "application/vnd.databricks.v1+cell": {
     "cellMetadata": {},
     "inputWidgets": {},
     "nuid": "123e8ab8-2ca9-4061-b111-7d9567f43069",
     "showTitle": false,
     "title": ""
    },
    "colab": {
     "base_uri": "https://localhost:8080/",
     "height": 737
    },
    "id": "RBk3PHG618x9",
    "outputId": "91e00217-f395-405b-c370-aa2313b8c2dd"
   },
   "outputs": [],
   "source": [
    "from PIL import Image\n",
    "img = Image.open(\"./bobby.jpg\")\n",
    "img"
   ]
  },
  {
   "cell_type": "code",
   "execution_count": 0,
   "metadata": {
    "application/vnd.databricks.v1+cell": {
     "cellMetadata": {},
     "inputWidgets": {},
     "nuid": "1e2b969d-e902-42dc-99aa-83873c68771d",
     "showTitle": false,
     "title": ""
    },
    "id": "tzPI4qTJ2HUD"
   },
   "outputs": [],
   "source": [
    "img_t = preprocess(img)"
   ]
  },
  {
   "cell_type": "code",
   "execution_count": 0,
   "metadata": {
    "application/vnd.databricks.v1+cell": {
     "cellMetadata": {},
     "inputWidgets": {},
     "nuid": "cf34cebd-e14d-4403-953f-b3be6a741331",
     "showTitle": false,
     "title": ""
    },
    "id": "CEZtg7Be2J10"
   },
   "outputs": [],
   "source": [
    "import torch\n",
    "batch_t = torch.unsqueeze(img_t, 0)"
   ]
  },
  {
   "cell_type": "code",
   "execution_count": 0,
   "metadata": {
    "application/vnd.databricks.v1+cell": {
     "cellMetadata": {},
     "inputWidgets": {},
     "nuid": "3f09dabe-fede-4b9a-8138-081d2202fe4c",
     "showTitle": false,
     "title": ""
    },
    "colab": {
     "base_uri": "https://localhost:8080/"
    },
    "id": "N6EcpYfu2Moh",
    "outputId": "6217bed7-b655-46b8-dca4-dea500041818"
   },
   "outputs": [],
   "source": [
    "resnet.eval()"
   ]
  },
  {
   "cell_type": "code",
   "execution_count": 0,
   "metadata": {
    "application/vnd.databricks.v1+cell": {
     "cellMetadata": {},
     "inputWidgets": {},
     "nuid": "b82bc2f1-59a0-42a7-a498-2d94b020f16e",
     "showTitle": false,
     "title": ""
    },
    "colab": {
     "base_uri": "https://localhost:8080/"
    },
    "id": "r9C8zpmY2P6M",
    "outputId": "38d360be-37f1-485b-fa95-2db6f08b3ed1"
   },
   "outputs": [],
   "source": [
    "out = resnet(batch_t)\n",
    "out"
   ]
  },
  {
   "cell_type": "code",
   "execution_count": 0,
   "metadata": {
    "application/vnd.databricks.v1+cell": {
     "cellMetadata": {},
     "inputWidgets": {},
     "nuid": "96743c3b-7e16-4c37-9bca-788a2e07606c",
     "showTitle": false,
     "title": ""
    },
    "id": "mrIDSy412iYN"
   },
   "outputs": [],
   "source": [
    "with open('./imagenet_classes.txt') as f:\n",
    "  labels = [line.strip() for line in f.readlines()]"
   ]
  },
  {
   "cell_type": "code",
   "execution_count": 0,
   "metadata": {
    "application/vnd.databricks.v1+cell": {
     "cellMetadata": {},
     "inputWidgets": {},
     "nuid": "9815f51a-af93-49d0-a260-bbe4650bb49a",
     "showTitle": false,
     "title": ""
    },
    "id": "I8n-rKN02n45"
   },
   "outputs": [],
   "source": [
    "_, index = torch.max(out, 1)"
   ]
  },
  {
   "cell_type": "code",
   "execution_count": 0,
   "metadata": {
    "application/vnd.databricks.v1+cell": {
     "cellMetadata": {},
     "inputWidgets": {},
     "nuid": "67b15e39-8500-4946-8119-0dfc283e57d5",
     "showTitle": false,
     "title": ""
    },
    "colab": {
     "base_uri": "https://localhost:8080/"
    },
    "id": "Dq-7KYza2p_D",
    "outputId": "5cb670b1-3d9b-4faa-91bb-07377ad33495"
   },
   "outputs": [],
   "source": [
    "percentage = torch.nn.functional.softmax(out, dim=1)[0] * 100\n",
    "labels[index[0]], percentage[index[0]].item()"
   ]
  },
  {
   "cell_type": "code",
   "execution_count": 0,
   "metadata": {
    "application/vnd.databricks.v1+cell": {
     "cellMetadata": {},
     "inputWidgets": {},
     "nuid": "8a199ace-aa0a-4974-a572-04d09c5816d0",
     "showTitle": false,
     "title": ""
    },
    "colab": {
     "base_uri": "https://localhost:8080/"
    },
    "id": "Zir3q3lQ2t8P",
    "outputId": "6ed12b37-0c4a-4ed9-9900-750cfe22a579"
   },
   "outputs": [],
   "source": [
    "_, indices = torch.sort(out, descending=True)\n",
    "[(labels[idx], percentage[idx].item()) for idx in indices[0][:5]]"
   ]
  }
 ],
 "metadata": {
  "application/vnd.databricks.v1+notebook": {
   "dashboards": [],
   "language": "python",
   "notebookMetadata": {},
   "notebookName": "pre_trained_networks",
   "widgets": {}
  },
  "colab": {
   "authorship_tag": "ABX9TyPxzpfw2h/tsKAFhYm68SUC",
   "include_colab_link": true,
   "provenance": []
  },
  "kernelspec": {
   "display_name": "Python 3",
   "name": "python3"
  },
  "language_info": {
   "name": "python"
  }
 },
 "nbformat": 4,
 "nbformat_minor": 0
}
